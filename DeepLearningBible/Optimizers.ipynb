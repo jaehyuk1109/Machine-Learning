{
  "nbformat": 4,
  "nbformat_minor": 0,
  "metadata": {
    "colab": {
      "provenance": []
    },
    "kernelspec": {
      "name": "python3",
      "display_name": "Python 3"
    },
    "language_info": {
      "name": "python"
    }
  },
  "cells": [
    {
      "cell_type": "code",
      "source": [
        "import numpy as np"
      ],
      "metadata": {
        "id": "wP9Fu8XUz0Yh"
      },
      "execution_count": 2,
      "outputs": []
    },
    {
      "cell_type": "markdown",
      "source": [
        "## Optimizers"
      ],
      "metadata": {
        "id": "8rBUPvCIA9Tz"
      }
    },
    {
      "cell_type": "code",
      "source": [
        "class Optimizer:\n",
        "    def __init__(self, learning_rate=None, name=None):\n",
        "        self.learning_rate = learning_rate\n",
        "        self.name = name\n",
        "\n",
        "    def config(self, layers):\n",
        "\n",
        "        pass\n",
        "\n",
        "    def optimize(self, idx, layers: list, grads: dict, *args):\n",
        "        '''# Args: Takes in idx of the layer, list of the layers and the gradients as a dictionary\n",
        "            Performs updates in the list of layers passed into it'''\n",
        "        pass"
      ],
      "metadata": {
        "id": "L3MQvLMPt_GL"
      },
      "execution_count": 3,
      "outputs": []
    },
    {
      "cell_type": "markdown",
      "source": [
        "1. Batch Gradient Descent\n",
        "  - $W_t = W_{t-1} - \\eta \\cdot \\nabla L(W_{t-1})$\n",
        "  - $b_t = b_{t-1} - \\eta \\cdot ∇ L(b_{t-1})$"
      ],
      "metadata": {
        "id": "XHx7-6kCBBWq"
      }
    },
    {
      "cell_type": "code",
      "source": [],
      "metadata": {
        "id": "RVcEppmXBBmG"
      },
      "execution_count": 3,
      "outputs": []
    },
    {
      "cell_type": "markdown",
      "source": [
        "2. Stochastic Gradient Descent (SGD)\n",
        "   - for random sample i,\n",
        "   - $L^*(θ) = \\dfrac{1}{2}(y^i - f_θ(x^i))^2$\n",
        "   - $θ' = θ - \\eta (y^i - f_\\theta(x^i))x^i$"
      ],
      "metadata": {
        "id": "GGbbcuRqmftI"
      }
    },
    {
      "cell_type": "code",
      "source": [],
      "metadata": {
        "id": "4zy2j_ERBB8_"
      },
      "execution_count": 3,
      "outputs": []
    },
    {
      "cell_type": "markdown",
      "source": [
        "3. SGD with Momentum\n",
        "  - $v_{t}^W = \\beta \\cdot v_{t-1}^W + \\nabla_W L(W_{t-1})$\n",
        "  - $W_t = W_{t-1} - \\eta \\cdot v_{t}^W$\n",
        "  - $v_{t}^b = \\beta \\cdot v_{t-1}^b + \\nabla_b L(b_{t-1})$\n",
        "  - $b_t = b_{t-1} - \\eta \\cdot v_{t}^b$"
      ],
      "metadata": {
        "id": "Mb0GVxIxoYVa"
      }
    },
    {
      "cell_type": "code",
      "source": [
        "class SGDM(Optimizer):\n",
        "  \"\"\"\n",
        "  mu_init   : inital momentum coefficient\n",
        "  max_mu    : max mu\n",
        "\n",
        "  demon     : decaying momentum\n",
        "  beta_init : inital beta value of demon, controlling the rate of decaying\n",
        "  \"\"\"\n",
        "  def __init__(self, learning_rate = 1e-2, mu_init = 0.5, max_mu = 0.99, beta_init = 0.9, demon = False, **kwargs):\n",
        "    super().__init__(**kwargs)\n",
        "    self.mu_init = mu_init\n",
        "    self.max_mu = max_mu\n",
        "    self.demon = demon\n",
        "    if self.demon:\n",
        "      self.beta = beta_init\n",
        "    self.m = dict()\n",
        "\n",
        "  def config(self, layers):\n",
        "    for i in range(1, len(layers)+1):\n",
        "      self.m[f\"W{i}\"] = 0\n",
        "      self.m[f\"b{i}\"] = 0\n",
        "\n",
        "  def optimize(self, idx, layers, grads, epoch_num, steps):\n",
        "\n",
        "    mu = np.min(self.mu_init * 1.2**(epoch_num - 1), self.max_mu)\n",
        "\n",
        "    if self.demon:\n",
        "      pass\n",
        "\n",
        "    \"\"\"\n",
        "\n",
        "    self.m[f\"W{idx}\"] = self.m[f\"W{idx}\"] * mu + grads[f\"dW{idx}\"]\n",
        "    self.m[f\"b{idx}\"] = self.m[f\"b{idx}\"] * mu + grads[f\"db{idx}\"]\n",
        "\n",
        "    layers[idx].W -= self.learning_rate * self.m[f\"W{idx}\"]\n",
        "    layers[idx].b -= self.learning_rate * self.m[f\"b{idx}\"]\n",
        "\n",
        "\n",
        "    \"\"\"\n",
        "    # Another expression of SGDM\n",
        "\n",
        "    self.m[f\"W{idx}\"] = self.m[f\"W{idx}\"] * mu - self.learning_rate * grads[f\"dW{idx}\"]\n",
        "    self.m[f\"b{idx}\"] = self.m[f\"b{idx}\"] * mu - self.learning_rate * grads[f\"db{idx}\"]\n",
        "\n",
        "    layers[idx].W += self.m[f\"W{idx}\"]\n",
        "    layers[idx].b += self.m[f\"b{idx}\"]\n"
      ],
      "metadata": {
        "id": "jb_dol7Vq3j0"
      },
      "execution_count": 4,
      "outputs": []
    },
    {
      "cell_type": "markdown",
      "source": [
        "4. Nesterov Accelerated Gradient\n",
        "  - $v_{t}^θ = \\beta \\cdot v_{t-1}^θ - \\eta \\cdot \\nabla_θ L(θ_{t-1} + v_{t-1}^θ)$\n",
        "  - $θ_{t} = θ_{t-1} + v_{t}^θ$"
      ],
      "metadata": {
        "id": "2Q00sxCR1S36"
      }
    },
    {
      "cell_type": "markdown",
      "source": [
        "\n",
        "- $\\theta_{t} <= \\eta \\cdot v_{t-1}^\\theta + \\theta_{t}$\n",
        "  \n",
        "  - $v_{t} = \\beta \\cdot v_{t-1} - \\eta \\cdot \\nabla_{\\theta}L(\\theta_{t})$\n",
        "\n",
        "  - $\\eta \\cdot v_{t} = \\beta ( \\beta \\cdot v_{t-1} - \\eta \\cdot\n",
        "  \\nabla_{\\theta}L(\\theta_{t}))$\n",
        "\n",
        "  - $\\theta_{t+1} = \\theta_{t} - \\eta \\cdot \\nabla_{\\theta}L(\\theta_{t}) + \\beta ( \\beta \\cdot v_{t-1} + \\eta \\cdot\n",
        "  \\nabla_{\\theta}L(\\theta_{t}))$\n",
        "\n",
        "\n",
        "\n",
        "\n"
      ],
      "metadata": {
        "id": "DuwJE0SnCmQN"
      }
    },
    {
      "cell_type": "code",
      "source": [
        "class Nesterov(SGDM):\n",
        "  def __init__(self, learning_rate = 1e-2, **kwargs):\n",
        "\n",
        "    self.learning_rate = learning_rate\n",
        "    super().__init__(**kwargs)\n",
        "\n",
        "  def optimize(self, idx, layers, grads, epoch_num, steps):\n",
        "\n",
        "    mu = np.min(self.mu_init * 1.2**(epoch_num - 1), self.max_mu)\n",
        "\n",
        "    if self.demon:\n",
        "      pass\n",
        "\n",
        "    self.m[f\"W{idx}\"] = self.m[f\"W{idx}\"] * mu - self.learning_rate * grads[f\"dW{idx}\"]\n",
        "    self.m[f\"b{idx}\"] = self.m[f\"b{idx}\"] * mu - self.learning_rate * grads[f\"db{idx}\"]\n",
        "\n",
        "    layers[idx].W += mu * self.m[f\"W{idx}\"] - self.learning_rate * grads[f\"dW{idx}\"]\n",
        "    layers[idx].b += mu * self.m[f\"b{idx}\"] - self.learning_rate * grads[f\"db{idx}\"]"
      ],
      "metadata": {
        "id": "-s-dGsBrCmE-"
      },
      "execution_count": 5,
      "outputs": []
    },
    {
      "cell_type": "markdown",
      "source": [
        "5. AdaGrad\n",
        "  - $v_{t}^\\theta  = v_{t-1}^\\theta + \\nabla_{\\theta} L(W_{t-1})^2$\n",
        "\n",
        "  - $\\theta_{t} = \\theta_{t-1} - \\dfrac{\\eta}{\\sqrt{v_{t}^{\\theta} + {\\epsilon}}} \\cdot \\nabla_{\\theta} L(W_{t-1})$\n"
      ],
      "metadata": {
        "id": "lfXgBhexccEU"
      }
    },
    {
      "cell_type": "code",
      "source": [
        "class AdaGrad(Optimizer):\n",
        "  def __init__(self, learning_rate = 1e-2, epsilon = 1e-8, **kwargs):\n",
        "\n",
        "    self.learning_rate = learning_rate\n",
        "    self.epsilon = epsilon\n",
        "    self.V = dict()\n",
        "    super().__init__(**kwargs)\n",
        "\n",
        "    def config(self, layers):\n",
        "      for i in range(1, len(layers) + 1):\n",
        "        self.V[f\"W{i}\"] = 0\n",
        "        self.V[f\"b{i}\"] = 0\n",
        "\n",
        "    def optimize(self, idx, layers, grads, epochs_num, steps):\n",
        "\n",
        "      self.V[f\"W{idx}\"] += grads[f\"dW{idx}\"]**2\n",
        "      self.V[f\"b{idx}\"] += grads[f\"db{idx}\"]**2\n",
        "\n",
        "      layers[f\"W{idx}\"] -=  grads[f\"dW{idx}\"] * (self.learning_rate) / np.sqrt(self.V[f\"W{idx}\"] + self.epsilon)\n",
        "      layers[f\"b{idx}\"] -=  grads[f\"db{idx}\"] * (self.learning_rate) / np.sqrt(self.V[f\"b{idx}\"] + self.epsilon)"
      ],
      "metadata": {
        "id": "klVlbGoFCVOp"
      },
      "execution_count": 6,
      "outputs": []
    },
    {
      "cell_type": "markdown",
      "source": [
        "6. RMSProp\n",
        "  - $v_{t}^{\\theta} = \\beta \\cdot v_{t-1}^{\\theta} + (1-\\beta) \\cdot \\nabla_{θ}L(\\theta_{t-1})^2$\n",
        "  - $\\theta_{t} = \\theta_{t-1} - \\dfrac{\\eta}{\\sqrt{v_{t}^{\\theta} + {\\epsilon}}} \\cdot \\nabla_{\\theta} L(W_{t-1})$"
      ],
      "metadata": {
        "id": "fecII2apiG85"
      }
    },
    {
      "cell_type": "code",
      "source": [
        "class RMSProp(Optimizer):\n",
        "  def __init__(self, learning_rate = 1e-2, decay_rate = 0.9, epsilon = 1e-8, **kwargs):\n",
        "\n",
        "    self.learning_rate = learning_rate\n",
        "    self.decay_rate = decay_rate\n",
        "    self.epsilon = epsilon\n",
        "    super().__init__(**kwargs)\n",
        "    self.V = dict()\n",
        "\n",
        "  def config(self, layers):\n",
        "    for i in range(1, len(layers) + 1):\n",
        "      self.V[f\"W{i}\"] = 0\n",
        "      self.V[f\"b{i}\"] = 0\n",
        "\n",
        "  def optimize(self, idx, layers, grads, epochs_num, steps):\n",
        "\n",
        "    self.V[f\"W{idx}\"] = self.decay_rate * self.V[f\"W{idx}\"] + (1 - self.decay_rate) * grads[f\"dW{idx}\"]**2\n",
        "    self.V[f\"b{idx}\"] = self.decay_rate * self.V[f\"b{idx}\"] + (1 - self.decay_rate) * grads[f\"db{idx}\"]**2\n",
        "\n",
        "    layers[idx].W -=  grads[f\"dW{idx}\"] * (self.learning_rate) / np.sqrt(self.V[f\"W{idx}\"] + self.epsilon)\n",
        "    layers[idx].b -=  grads[f\"db{idx}\"] * (self.learning_rate) / np.sqrt(self.V[f\"b{idx}\"] + self.epsilon)\n"
      ],
      "metadata": {
        "id": "zM5gVOnh076A"
      },
      "execution_count": 7,
      "outputs": []
    },
    {
      "cell_type": "markdown",
      "source": [
        "7. Adam\n",
        "  \n",
        "  > **Moment Vector**\n",
        "  - $m_{t}^{\\theta} = \\beta_{1} \\cdot m_{t-1}^{\\theta} + (1-\\beta_{1}) \\cdot \\nabla_{\\theta}L(\\theta_{t-1})$\n",
        "  - $v_{t}^{\\theta} \\,= \\beta_{2} \\cdot v_{t-1}^{\\theta}\\, + (1-\\beta_{2}) \\cdot \\nabla_{θ}L(\\theta_{t-1})^2$\n",
        "  \n",
        "  > **Bias Correction**\n",
        "  - $\\widehat{m_{t}^{\\theta}} = \\dfrac {m_{t}^{\\theta}}{1 - {\\beta}_{1}^{t}}$\n",
        "  - $\\widehat{v_{t}^{\\theta}} \\, \\, = \\dfrac {v_{t}^{\\theta}}{1 - {\\beta}_{2}^{t}}$\n",
        "\n",
        "  > **Update Parameters**\n",
        "  - $\\theta_{t} = \\theta_{t-1} - \\dfrac{\\eta⋅\\widehat{m_{t}^{\\theta}}}{\\sqrt{\\widehat{v_{t}^{\\theta}}} + {\\epsilon}}$\n",
        "\n"
      ],
      "metadata": {
        "id": "9dMZLUGkkUB2"
      }
    },
    {
      "cell_type": "code",
      "source": [
        "class Adam(Optimizer):\n",
        "  def __init__(self, learning_rate = 1e-3, beta1 = 0.9, beta2 = 0.999, epsilon = 1e-8, **kwargs): ## default recommended from paper\n",
        "\n",
        "    self.learning_rate = learning_rate\n",
        "    self.beta1 = beta1\n",
        "    self.beta2 = beta2\n",
        "    self.epsilon = epsilon\n",
        "    super().__init__(**kwargs)\n",
        "\n",
        "    self.t = 0      # initalize step\n",
        "    self.M = dict()\n",
        "    self.V = dict()\n",
        "\n",
        "  def config(self, layers):\n",
        "\n",
        "    self.t = 0\n",
        "    for i in range(1, len(layers) + 1):\n",
        "      self.M[f\"W{i}\"] = 0\n",
        "      self.M[f\"b{i}\"] = 0\n",
        "      self.V[f\"W{i}\"] = 0\n",
        "      self.V[f\"b{i}\"] = 0\n",
        "\n",
        "  def optimize(self, idx, layers, grads):\n",
        "\n",
        "    self.t += 1 # update step\n",
        "\n",
        "    # Update first moment estimate\n",
        "    self.M[f\"W{idx}\"] = self.beta1 * self.M[f\"W{idx}\"] + (1 - self.beta1) * grads[f\"dW{idx}\"]\n",
        "    self.M[f\"b{idx}\"] = self.beta1 * self.M[f\"b{idx}\"] + (1 - self.beta1) * grads[f\"db{idx}\"]\n",
        "\n",
        "    # Update second moment estimate\n",
        "    self.V[f\"W{idx}\"] = self.beta2 * self.V[f\"W{idx}\"] + (1 - self.beta2) * grads[f\"dW{idx}\"]**2\n",
        "    self.V[f\"b{idx}\"] = self.beta2 * self.V[f\"b{idx}\"] + (1 - self.beta2) * grads[f\"db{idx}\"]**2\n",
        "\n",
        "\n",
        "    # bias correction\n",
        "    M_hat_W = self.M[f\"W{idx}\"] / (1 - self.beta1**self.t)\n",
        "    M_hat_b = self.M[f\"b{idx}\"] / (1 - self.beta1**self.t)\n",
        "\n",
        "    V_hat_W = self.V[f\"W{idx}\"] / (1 - self.beta2**self.t)\n",
        "    V_hat_b = self.V[f\"b{idx}\"] / (1 - self.beta2**self.t)\n",
        "\n",
        "    # Update parameters\n",
        "    layers[idx].W -= self.learning_rate * M_hat_W / (np.sqrt(V_hat_W) + self.epsilon)\n",
        "    layers[idx].b -= self.learning_rate * M_hat_b / (np.sqrt(V_hat_b) + self.epsilon)"
      ],
      "metadata": {
        "id": "LRoXfKCzrVuS"
      },
      "execution_count": 10,
      "outputs": []
    },
    {
      "cell_type": "code",
      "source": [],
      "metadata": {
        "colab": {
          "base_uri": "https://localhost:8080/"
        },
        "id": "H3Or3JRiyLr4",
        "outputId": "fc9ce958-3c1d-4118-9fa8-fb6002992f8a"
      },
      "execution_count": 9,
      "outputs": [
        {
          "output_type": "execute_result",
          "data": {
            "text/plain": [
              "{1: 1}"
            ]
          },
          "metadata": {},
          "execution_count": 9
        }
      ]
    },
    {
      "cell_type": "code",
      "source": [],
      "metadata": {
        "id": "psUotRHUggD9"
      },
      "execution_count": null,
      "outputs": []
    }
  ]
}